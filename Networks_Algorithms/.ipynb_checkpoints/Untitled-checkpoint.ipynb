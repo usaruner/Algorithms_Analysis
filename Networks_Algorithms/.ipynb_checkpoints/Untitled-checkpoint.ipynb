{
 "cells": [
  {
   "cell_type": "code",
   "execution_count": 15,
   "id": "48b226cf",
   "metadata": {},
   "outputs": [
    {
     "name": "stdout",
     "output_type": "stream",
     "text": [
      "1\n"
     ]
    },
    {
     "data": {
      "image/png": "[encoded data removed]",
      "text/plain": [
       "<Figure size 432x288 with 1 Axes>"
      ]
     },
     "metadata": {},
     "output_type": "display_data"
    }
   ],
   "source": [
    "import networkx as nx\n",
    "import matplotlib.pyplot as plt\n",
    "numNodes = 4\n",
    "\n",
    "G=nx.erdos_renyi_graph(numNodes,0.6)\n",
    "\n",
    "#nx.draw(G, with_labels=True, font_weight='bold')\n",
    "print(nx.triangles(G,0))\n",
    "plt.subplot(122)\n",
    "nx.draw_shell(G, nlist=[range(5, 10), range(5)], with_labels=True, font_weight='bold')\n"
   ]
  },
  {
   "cell_type": "code",
   "execution_count": 16,
   "id": "e1d0258b",
   "metadata": {},
   "outputs": [
    {
     "name": "stdout",
     "output_type": "stream",
     "text": [
      "0.5833333333333333\n",
      "[(0, 1), (0, 2), (1, 2), (1, 3)]\n",
      "{ 0, 0, 1, 1, }\n",
      "{ 1, 2, 2, 3, } "
     ]
    }
   ],
   "source": [
    "print(nx.average_clustering(G,count_zeros = True))\n",
    "print(nx.clustering(G))\n",
    "list(G.nodes)\n",
    "print(list(G.edges))\n",
    "listofnodes = G.edges\n",
    "print(\"{\", end =\" \")\n",
    "for n in listofnodes:\n",
    "    print(n[0], end =\", \")\n",
    "print(\"}\")\n",
    "print(\"{\", end =\" \")\n",
    "for n in listofnodes:\n",
    "    print(n[1], end =\", \")\n",
    "print(\"}\", end =\" \")"
   ]
  },
  {
   "cell_type": "code",
   "execution_count": 5,
   "id": "0b5dbbc2",
   "metadata": {},
   "outputs": [
    {
     "name": "stdout",
     "output_type": "stream",
     "text": [
      "2.0\n"
     ]
    }
   ],
   "source": [
    "sum = 0\n",
    "for t in range(0,numNodes):\n",
    "    sum = sum + nx.triangles(G,t)\n",
    "print(sum/3)"
   ]
  },
  {
   "cell_type": "code",
   "execution_count": 6,
   "id": "b89aa55d",
   "metadata": {},
   "outputs": [
    {
     "name": "stdout",
     "output_type": "stream",
     "text": [
      "0 1\n",
      "0 2\n",
      "0 3\n",
      "1 3\n",
      "2 3\n"
     ]
    }
   ],
   "source": [
    "for n in listofnodes:\n",
    "    print(n[0], end =\" \")\n",
    "    print(n[1])\n",
    "    "
   ]
  },
  {
   "cell_type": "code",
   "execution_count": null,
   "id": "cc1ce5e5",
   "metadata": {},
   "outputs": [],
   "source": []
  }
 ],
 "metadata": {
  "kernelspec": {
   "display_name": "Python 3",
   "language": "python",
   "name": "python3"
  },
  "language_info": {
   "codemirror_mode": {
    "name": "ipython",
    "version": 3
   },
   "file_extension": ".py",
   "mimetype": "text/x-python",
   "name": "python",
   "nbconvert_exporter": "python",
   "pygments_lexer": "ipython3",
   "version": "3.9.0"
  }
 },
 "nbformat": 4,
 "nbformat_minor": 5
}
